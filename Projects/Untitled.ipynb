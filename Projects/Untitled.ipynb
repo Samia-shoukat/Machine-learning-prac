{
 "cells": [
  {
   "cell_type": "code",
   "execution_count": null,
   "id": "651dcdcd-103d-4356-ac88-c4554abc0dd1",
   "metadata": {},
   "outputs": [],
   "source": []
  }
 ],
 "metadata": {
  "kernelspec": {
   "display_name": "",
   "name": ""
  },
  "language_info": {
   "name": ""
  }
 },
 "nbformat": 4,
 "nbformat_minor": 5
}
