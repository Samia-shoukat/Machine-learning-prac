{
 "cells": [
  {
   "cell_type": "code",
   "execution_count": 6,
   "id": "27fbb1e4-57af-4e08-831a-3e5b6a5482af",
   "metadata": {},
   "outputs": [],
   "source": [
    "import pandas as pd\n",
    "import seaborn as sns\n",
    "import matplotlib.pyplot as plt"
   ]
  },
  {
   "cell_type": "code",
   "execution_count": 26,
   "id": "bce5122c-d307-4426-8123-251cd5bef673",
   "metadata": {},
   "outputs": [
    {
     "name": "stdout",
     "output_type": "stream",
     "text": [
      "   EmployeeID      FullName  Department       Role   Salary  \\\n",
      "0           1      Ali Khan         NaN        NaN      NaN   \n",
      "1           2    Sara Ahmed         NaN        NaN      NaN   \n",
      "2           3   Hassan Raza         NaN    Manager  90000.0   \n",
      "3           4   Fatima Noor          IT  Executive  90000.0   \n",
      "4           5   Usman Tariq          HR    Manager  70000.0   \n",
      "5           6  Ayesha Saeed         NaN        NaN      NaN   \n",
      "6           7   Bilal Zafar   Marketing     Intern  50000.0   \n",
      "7           8   Hina Sheikh          IT    Manager  70000.0   \n",
      "8           9   Omar Farooq         NaN        NaN      NaN   \n",
      "9          10    Zara Iqbal  Operations  Executive  70000.0   \n",
      "\n",
      "                      Email         Phone    Address    HireDate    Status  \n",
      "0      ali.khan@company.com  032-43163773        NaN  2020-01-31       NaN  \n",
      "1    sara.ahmed@company.com  030-41146082        NaN  2020-02-29       NaN  \n",
      "2   hassan.raza@company.com  030-31739356  Islamabad  2020-03-31    Active  \n",
      "3   fatima.noor@company.com  031-29576703   Peshawar  2020-04-30       NaN  \n",
      "4   usman.tariq@company.com  031-82429249   Peshawar  2020-05-31  Resigned  \n",
      "5  ayesha.saeed@company.com  032-33705256        NaN  2020-06-30       NaN  \n",
      "6   bilal.zafar@company.com  033-87633091        NaN  2020-07-31  On Leave  \n",
      "7   hina.sheikh@company.com  030-65403796    Karachi  2020-08-31    Active  \n",
      "8   omar.farooq@company.com  033-33508102        NaN  2020-09-30       NaN  \n",
      "9    zara.iqbal@company.com  032-15853584  Islamabad  2020-10-31  Resigned  \n"
     ]
    }
   ],
   "source": [
    "dataset = pd.read_csv(r\"E:\\ML\\handle_categorical.csv\")\n",
    "print(dataset.head(10))"
   ]
  },
  {
   "cell_type": "code",
   "execution_count": 8,
   "id": "8b927811-5c6f-4cea-99db-d8795ec24c60",
   "metadata": {},
   "outputs": [
    {
     "data": {
      "text/plain": [
       "EmployeeID     0\n",
       "FullName       0\n",
       "Department     7\n",
       "Role           6\n",
       "Salary         8\n",
       "Email          0\n",
       "Phone          0\n",
       "Address       12\n",
       "HireDate       0\n",
       "Status         8\n",
       "dtype: int64"
      ]
     },
     "execution_count": 8,
     "metadata": {},
     "output_type": "execute_result"
    }
   ],
   "source": [
    "dataset.isnull().sum()"
   ]
  },
  {
   "cell_type": "code",
   "execution_count": 5,
   "id": "887e160d-fb08-44c6-a9d5-9ab706e977d3",
   "metadata": {},
   "outputs": [
    {
     "name": "stdout",
     "output_type": "stream",
     "text": [
      "<class 'pandas.core.frame.DataFrame'>\n",
      "RangeIndex: 20 entries, 0 to 19\n",
      "Data columns (total 10 columns):\n",
      " #   Column      Non-Null Count  Dtype  \n",
      "---  ------      --------------  -----  \n",
      " 0   EmployeeID  20 non-null     int64  \n",
      " 1   FullName    20 non-null     object \n",
      " 2   Department  13 non-null     object \n",
      " 3   Role        14 non-null     object \n",
      " 4   Salary      12 non-null     float64\n",
      " 5   Email       20 non-null     object \n",
      " 6   Phone       20 non-null     object \n",
      " 7   Address     8 non-null      object \n",
      " 8   HireDate    20 non-null     object \n",
      " 9   Status      12 non-null     object \n",
      "dtypes: float64(1), int64(1), object(8)\n",
      "memory usage: 1.7+ KB\n"
     ]
    }
   ],
   "source": [
    "dataset.info()"
   ]
  },
  {
   "cell_type": "code",
   "execution_count": 9,
   "id": "2ed82eb4-6381-4a37-851c-748212612a3b",
   "metadata": {},
   "outputs": [
    {
     "data": {
      "text/plain": [
       "Index(['Salary'], dtype='object')"
      ]
     },
     "execution_count": 9,
     "metadata": {},
     "output_type": "execute_result"
    }
   ],
   "source": [
    "dataset.select_dtypes(include=\"float64\").columns"
   ]
  },
  {
   "cell_type": "code",
   "execution_count": 10,
   "id": "60cd9aaf-b44e-4c63-8868-2406b4ad6d21",
   "metadata": {},
   "outputs": [],
   "source": [
    "from sklearn.impute import SimpleImputer"
   ]
  },
  {
   "cell_type": "code",
   "execution_count": 25,
   "id": "209667fb-c793-4808-85ba-fc84f05748ea",
   "metadata": {},
   "outputs": [],
   "source": [
    "si = SimpleImputer(strategy=\"mean\")\n",
    "ar = si.fit_transform(dataset[['Salary']])"
   ]
  },
  {
   "cell_type": "code",
   "execution_count": 18,
   "id": "35257f06-01db-4951-9dc4-9cb3b9d46bd8",
   "metadata": {},
   "outputs": [],
   "source": [
    "new_dataset = pd.DataFrame(ar,columns=dataset.select_dtypes(include=\"float64\").columns)"
   ]
  },
  {
   "cell_type": "code",
   "execution_count": 19,
   "id": "5efa3cb1-0394-4a97-8569-d226b79da600",
   "metadata": {},
   "outputs": [
    {
     "data": {
      "text/plain": [
       "Salary    0\n",
       "dtype: int64"
      ]
     },
     "execution_count": 19,
     "metadata": {},
     "output_type": "execute_result"
    }
   ],
   "source": [
    "new_dataset.isnull().sum()"
   ]
  },
  {
   "cell_type": "code",
   "execution_count": 20,
   "id": "c1891aa7-3bb4-42f0-adfa-ad481a3928e7",
   "metadata": {},
   "outputs": [
    {
     "data": {
      "text/html": [
       "<div>\n",
       "<style scoped>\n",
       "    .dataframe tbody tr th:only-of-type {\n",
       "        vertical-align: middle;\n",
       "    }\n",
       "\n",
       "    .dataframe tbody tr th {\n",
       "        vertical-align: top;\n",
       "    }\n",
       "\n",
       "    .dataframe thead th {\n",
       "        text-align: right;\n",
       "    }\n",
       "</style>\n",
       "<table border=\"1\" class=\"dataframe\">\n",
       "  <thead>\n",
       "    <tr style=\"text-align: right;\">\n",
       "      <th></th>\n",
       "      <th>Salary</th>\n",
       "    </tr>\n",
       "  </thead>\n",
       "  <tbody>\n",
       "    <tr>\n",
       "      <th>0</th>\n",
       "      <td>73333.333333</td>\n",
       "    </tr>\n",
       "    <tr>\n",
       "      <th>1</th>\n",
       "      <td>73333.333333</td>\n",
       "    </tr>\n",
       "    <tr>\n",
       "      <th>2</th>\n",
       "      <td>90000.000000</td>\n",
       "    </tr>\n",
       "    <tr>\n",
       "      <th>3</th>\n",
       "      <td>90000.000000</td>\n",
       "    </tr>\n",
       "    <tr>\n",
       "      <th>4</th>\n",
       "      <td>70000.000000</td>\n",
       "    </tr>\n",
       "    <tr>\n",
       "      <th>5</th>\n",
       "      <td>73333.333333</td>\n",
       "    </tr>\n",
       "    <tr>\n",
       "      <th>6</th>\n",
       "      <td>50000.000000</td>\n",
       "    </tr>\n",
       "    <tr>\n",
       "      <th>7</th>\n",
       "      <td>70000.000000</td>\n",
       "    </tr>\n",
       "    <tr>\n",
       "      <th>8</th>\n",
       "      <td>73333.333333</td>\n",
       "    </tr>\n",
       "    <tr>\n",
       "      <th>9</th>\n",
       "      <td>70000.000000</td>\n",
       "    </tr>\n",
       "    <tr>\n",
       "      <th>10</th>\n",
       "      <td>80000.000000</td>\n",
       "    </tr>\n",
       "    <tr>\n",
       "      <th>11</th>\n",
       "      <td>73333.333333</td>\n",
       "    </tr>\n",
       "    <tr>\n",
       "      <th>12</th>\n",
       "      <td>50000.000000</td>\n",
       "    </tr>\n",
       "    <tr>\n",
       "      <th>13</th>\n",
       "      <td>80000.000000</td>\n",
       "    </tr>\n",
       "    <tr>\n",
       "      <th>14</th>\n",
       "      <td>70000.000000</td>\n",
       "    </tr>\n",
       "    <tr>\n",
       "      <th>15</th>\n",
       "      <td>73333.333333</td>\n",
       "    </tr>\n",
       "    <tr>\n",
       "      <th>16</th>\n",
       "      <td>80000.000000</td>\n",
       "    </tr>\n",
       "    <tr>\n",
       "      <th>17</th>\n",
       "      <td>73333.333333</td>\n",
       "    </tr>\n",
       "    <tr>\n",
       "      <th>18</th>\n",
       "      <td>80000.000000</td>\n",
       "    </tr>\n",
       "    <tr>\n",
       "      <th>19</th>\n",
       "      <td>73333.333333</td>\n",
       "    </tr>\n",
       "  </tbody>\n",
       "</table>\n",
       "</div>"
      ],
      "text/plain": [
       "          Salary\n",
       "0   73333.333333\n",
       "1   73333.333333\n",
       "2   90000.000000\n",
       "3   90000.000000\n",
       "4   70000.000000\n",
       "5   73333.333333\n",
       "6   50000.000000\n",
       "7   70000.000000\n",
       "8   73333.333333\n",
       "9   70000.000000\n",
       "10  80000.000000\n",
       "11  73333.333333\n",
       "12  50000.000000\n",
       "13  80000.000000\n",
       "14  70000.000000\n",
       "15  73333.333333\n",
       "16  80000.000000\n",
       "17  73333.333333\n",
       "18  80000.000000\n",
       "19  73333.333333"
      ]
     },
     "execution_count": 20,
     "metadata": {},
     "output_type": "execute_result"
    }
   ],
   "source": [
    "new_dataset"
   ]
  },
  {
   "cell_type": "code",
   "execution_count": 21,
   "id": "b06a157d-3fe7-426c-852d-89f296204215",
   "metadata": {},
   "outputs": [],
   "source": [
    "# through mean we fill the missing data"
   ]
  },
  {
   "cell_type": "code",
   "execution_count": 23,
   "id": "b81ef515-235a-4095-916f-3dec7ba3e2a0",
   "metadata": {},
   "outputs": [
    {
     "data": {
      "text/plain": [
       "np.float64(73333.33333333333)"
      ]
     },
     "execution_count": 23,
     "metadata": {},
     "output_type": "execute_result"
    }
   ],
   "source": [
    "dataset[\"Salary\"].mean()"
   ]
  },
  {
   "cell_type": "code",
   "execution_count": null,
   "id": "9f0d3a3d-ce88-4071-9375-daa409441dca",
   "metadata": {},
   "outputs": [],
   "source": []
  }
 ],
 "metadata": {
  "kernelspec": {
   "display_name": "Python 3 (ipykernel)",
   "language": "python",
   "name": "python3"
  },
  "language_info": {
   "codemirror_mode": {
    "name": "ipython",
    "version": 3
   },
   "file_extension": ".py",
   "mimetype": "text/x-python",
   "name": "python",
   "nbconvert_exporter": "python",
   "pygments_lexer": "ipython3",
   "version": "3.13.3"
  }
 },
 "nbformat": 4,
 "nbformat_minor": 5
}
