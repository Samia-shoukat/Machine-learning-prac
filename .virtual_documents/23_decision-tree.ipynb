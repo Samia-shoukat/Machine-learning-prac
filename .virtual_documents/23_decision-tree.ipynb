import pandas as pd
import seaborn as sns
import matplotlib.pyplot as plt
from mlxtend.plotting import plot_decision_regions


dataset = pd.read_csv(r"E:\Machine Learning\social_network_ads.csv")


dataset.head(4)


dataset.isnull().sum()


x = dataset.iloc[:,:-1]
y = dataset["Purchased"]


from sklearn.preprocessing import 



sc = StandardScaler()
sc.fit(x)
s = pd.DataFrame(sc.transform(x),columns=x.columns)
                 


s


from sklearn.model_selection import train_test_split


x_train, x_test, y_train, y_test =train_test_split(x,y,test_size=0.2, random_state=42)






from sklearn.tree import DecisionTreeClassifier


dt = DecisionTreeClassifier(max_depth=3)
dt.fit(x_train,y_train)


dt.score(x_test,y_test)*100


dt.score(x_train,y_train)*100


dt.predict([[35,20000]])


plot_decision_regions(x.to_numpy(),y.to_numpy(),clf=dt)
plt.show()





from sklearn.tree import plot_tree


plt.figure(figsize=(50,50))
plot_tree(dt)
plt.savefig("demo.jpg")
plt.show()


sns.scatterplot(x="Age",y="EstimatedSalary",data = dataset,hue="Purchased")





for i in range(1,20):
    dt = DecisionTreeClassifier(max_depth=i)
    dt.fit(x_train,y_train)
    print(dt.score(x_train,y_train),dt.score(x_test,y_test),i)



