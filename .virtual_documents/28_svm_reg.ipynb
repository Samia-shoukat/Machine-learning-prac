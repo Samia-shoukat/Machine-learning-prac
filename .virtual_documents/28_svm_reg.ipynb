import pandas as pd
import seaborn as sns
import matplotlib.pyplot as plt
from mlxtend.plotting import plot_decision_regions


dataset = pd.read_csv(r"E:\Machine Learning\CGPA_Package.csv")


dataset.head(4)


sns.scatterplot(x="cgpa",y="package",data=dataset)
plt.show()


x = dataset[["cgpa"]]
y = dataset["package"]


from sklearn.model_selection import train_test_split


x_train, x_test, y_train, y_test =train_test_split(x,y,test_size=0.2, random_state=42)



from sklearn.svm import SVR


sv = SVR(kernel="linear",degree=7)
sv.fit(x_train,y_train)


sv.score(x_test,y_test)*100


sv.score(x_train,y_train)*100


sns.scatterplot(x="cgpa",y="package",data=dataset)
plt.scatter(dataset["cgpa"],sv.predict(x),color="red")
plt.show()






