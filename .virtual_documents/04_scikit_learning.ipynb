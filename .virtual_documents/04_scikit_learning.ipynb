import pandas as pd
import seaborn as sns
import matplotlib.pyplot as plt


dataset = pd.read_csv(r"E:\ML\handle_categorical.csv")
print(dataset.head(10))


dataset.isnull().sum()


dataset.info()


dataset.select_dtypes(include="float64").columns


from sklearn.impute import SimpleImputer


si = SimpleImputer(strategy="mean")
ar = si.fit_transform(dataset[['Salary']])


new_dataset = pd.DataFrame(ar,columns=dataset.select_dtypes(include="float64").columns)


new_dataset.isnull().sum()


new_dataset


# through mean we fill the missing data


dataset["Salary"].mean()



