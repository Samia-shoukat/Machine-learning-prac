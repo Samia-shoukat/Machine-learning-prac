import pandas as pd
import matplotlib.pyplot as plt
import seaborn as sns


dataset = pd.read_csv(r"E:\Machine Learning\placement_data.csv")


dataset.head(5)


plt.figure(figsize=(4,3))
sns.scatterplot(x="cgpa",y="score",data=dataset,hue="placed")
plt.legend(loc = 1)
plt.show()






x = dataset.iloc[:,:-1]
y = dataset["placed"]


from sklearn.model_selection import train_test_split


x_train, x_test, y_train, y_test =train_test_split(x,y,test_size=0.2, random_state=42)



from sklearn.linear_model import LogisticRegression


lr = LogisticRegression()
lr.fit(x_train , y_train)



lr.score(x_test,y_test)*100


lr.predict([[8.14,6.52]])


lr.coef_


lr.intercept_








from mlxtend.plotting import plot_decision_regions


plot_decision_regions(x.to_numpy(),y.to_numpy(),clf=lr)
plt.show()


# y=1/1+e-x



