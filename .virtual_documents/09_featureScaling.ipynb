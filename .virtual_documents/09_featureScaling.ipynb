import pandas as pd
import seaborn as sns
import matplotlib.pyplot as plt


dataset = pd.read_csv("encoding.csv")
dataset.head(5)


dataset.isnull().sum()


dataset["Salary"].fillna(dataset["Salary"].mean(),inplace=True)


sns.distplot(dataset["Application_Income"])
plt.show()


dataset.describe()


from sklearn.preprocessing import StandardScaler


ss = StandardScaler()
ss.fit(dataset[["Application_Income"]])


dataset["Application_ss"]= pd.DataFrame(ss.transform(dataset[["Application_Income"]]), column = ["x"])


dataset.head(5)


dataset.describe()


plt.subplot(1,2,1)
sns.distplot(dataset["Application_ss"])
plt.subplot(1,2,2)
sns.distplot(dataset["Application_Income"])
plt.show()



























