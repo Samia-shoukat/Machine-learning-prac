import seaborn as sns
import matplotlib.pyplot as plt
from sklearn.datasets import make_moons
import pandas as pd


# used for outlier, for non-linear dataset


x,y = make_moons(n_samples=250,noise=0.05)


df = {"data1":x[:,0],"data2":x[:,1]}


dataset = pd.DataFrame(df)


dataset.head(4)


sns.scatterplot(x="data1",y="data2", data=dataset)
plt.show()





from sklearn.cluster import DBSCAN


db = DBSCAN(eps=0.4,min_samples=5)
dataset["predict"] = db.fit_predict(dataset)


sns.scatterplot(x="data1",y="data2", data=dataset, hue="predict")
plt.show()



