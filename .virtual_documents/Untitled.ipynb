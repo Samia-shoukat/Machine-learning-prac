import pandas as pd
import seaborn as sns
import matplotlib.pyplot as plt
from mlxtend.plotting import plot_decision_regions


dataset = pd.read_csv(r"E:\Machine Learning\CGPA_package.csv")


dataset.head(4)


x = dataset.iloc[:,:-1]
y = dataset["package"]


new_data = dataset.head(10)


x_new = new_data.iloc[:,:-1]
y_new = new_data["package"]








from sklearn.model_selection import LeavePOut, LeaveOneOut, KFold, StratifiedKFold





lo = LeaveOneOut()

for train, test in lo.split(x_new,y_new):
    print(train,test)





lo = LeavePOut(p=2)

for train, test in lo.split(x_new,y_new):
    print(train,test)





lo = KFold(n_splits=5)

for train, test in lo.split(x_new,y_new):
    print(train,test)





x = dataset.iloc[:,:-1]
y = dataset["package"]


from sklearn.linear_model import LinearRegression


from sklearn.model_selection import cross_val_score


p = cross_val_score(LinearRegression(),x,y,cv=KFold(n_splits=10))









