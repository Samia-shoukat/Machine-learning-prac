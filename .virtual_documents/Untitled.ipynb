import pandas as pd
import matplotlib.pyplot as plt
import seaborn as sns


dataset = pd.read_csv(r"E:\Machine Learning\social_network_ads.csv")


dataset.head(5)


dataset["Purchased"].value_counts()


x = dataset.iloc[:,:-1]
y = dataset["Purchased"]


from sklearn.model_selection import train_test_split


x_train, x_test, y_train, y_test =train_test_split(x,y,test_size=0.2, random_state=42)



from sklearn.linear_model import LogisticRegression



