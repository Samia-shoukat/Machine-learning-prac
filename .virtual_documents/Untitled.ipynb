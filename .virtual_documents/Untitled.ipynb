import pandas as pd
import seaborn as sns
import matplotlib.pyplot as plt
from mlxtend.plotting import plot_decision_regions


dataset = pd.read_csv(r"E:\Machine Learning\placement-dataset.csv")


dataset.head(4)



