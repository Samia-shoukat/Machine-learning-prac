import pandas as pd
import matplotlib.pyplot as plt
import seaborn as sns


dataset = pd.read_csv(r"E:\Machine Learning\polynomial_classification.csv")


dataset.head(5)


plt.figure(figsize=(4,3))
sns.scatterplot(x="data1",y="data2",data=dataset,hue="output")
plt.legend(loc = 1)
plt.show()




x = dataset.iloc[:,:-1]
y = dataset["output"]


x.shape


from sklearn.preprocessing import PolynomialFeatures





pf = PolynomialFeatures(degree=3)
pf.fit(x)
x = pd.DataFrame(pf.transform(x))


from sklearn.model_selection import train_test_split


x_train, x_test, y_train, y_test =train_test_split(x,y,test_size=0.2, random_state=42)



from sklearn.linear_model import LogisticRegression


lr = LogisticRegression()
lr.fit(x_train , y_train)



lr.score(x_test,y_test)*100


# y=1/1+e-x


# y^ = x1m1+x2m2+x3m3+....+b
