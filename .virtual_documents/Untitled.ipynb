import pandas as pd
import matplotlib.pyplot as plt
import seaborn as sns


dataset = pd.read_csv(r"E:\Machine Learning\iris_new.csv")


dataset.head(5)


dataset["Species"].unique()


sns.pairplot(data=dataset, hue="Species")
plt.show()



x = dataset.iloc[:,:-1]
y = dataset["Species"]


from sklearn.model_selection import train_test_split


x_train, x_test, y_train, y_test =train_test_split(x,y,test_size=0.2, random_state=42)






from sklearn.linear_model import LogisticRegression





lr = LogisticRegression(multi_class="ovr")
lr.fit(x_train,y_train)


lr.score(x_test,y_test)*100





lr1 = LogisticRegression(multi_class="multinomial")
lr1.fit(x_train,y_train)



lr1.score(x_test,y_test)*100


lr2 = LogisticRegression()
lr2.fit(x_train,y_train)


lr2.score(x_test,y_test)*100



