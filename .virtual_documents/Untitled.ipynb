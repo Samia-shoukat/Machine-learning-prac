import pandas as pd
import matplotlib.pyplot as plt
import seaborn as sns


dataset = pd.read_csv(r"E:\Machine Learning\placement-dataset.csv")


dataset.head(5)


x = dataset.iloc[:,:-1]
y = dataset["placement"]


from sklearn.model_selection import train_test_split


x_train, x_test, y_train, y_test =train_test_split(x,y,test_size=0.2, random_state=42)



from sklearn.linear_model import LogisticRegression


lr = LogisticRegression()
lr.fit(x_train,y_train)


lr.score(x_test,y_test)*100


from sklearn.metrics import confusion_matrix,precision_score,recall_score,f1_score


cf = confusion_matrix(y_test,lr.predict(x_test))
cf


sns.heatmap(cf,annot=True)
plt.show()


precision_score(y_test,lr.predict(x_test))*100


recall_score(y_test,lr.predict(x_test))*100


f1_score(y_test,lr.predict(x_test))*100



