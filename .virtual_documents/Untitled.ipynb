import pandas as pd
import seaborn as sns
import matplotlib.pyplot as plt
from mlxtend.plotting import plot_decision_regions


dataset = pd.read_csv(r"E:\Machine Learning\age&salary.csv")


dataset.head(4)


dataset.isnull().sum()


sns.pairplot(data=dataset)
plt.show()


x = dataset.iloc[:,:-1]
y = dataset["Salary"]





from sklearn.model_selection import train_test_split


x_train, x_test, y_train, y_test =train_test_split(x,y,test_size=0.2, random_state=42)



from sklearn.tree import DecisionTreeRegressor , plot_tree


dt = DecisionTreeRegressor()
dt.fit(x_train, y_train)


dt.score(x_test,y_test)*100


dt.score(x_train,y_train)*100





plot_tree(dt)
plt.show()



