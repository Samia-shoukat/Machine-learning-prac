import pandas as pd
import seaborn as sns
import matplotlib.pyplot as plt
from mlxtend.plotting import plot_decision_regions


dataset = pd.read_csv(r"E:\Machine Learning\iris_new-clust.csv")


dataset.head(4)


sns.pairplot(data=dataset)
plt.show()


from sklearn.cluster import KMeans


# wcss = []

# for i in range(2,20):
#     km = KMeans(n_clusters=i,init='k-means++')
#     km.fit(dataset)
#     wcss.append(km.inertia_)


wcss = []
for i in range(2, 21):  # changed to match plot range
    km = KMeans(n_clusters=i, init='k-means++', random_state=42)
    km.fit(dataset)
    wcss.append(km.inertia_)

# plotting the elbow curve
plt.plot([i for i in range(2, 21)], wcss, marker='o')
plt.xlabel("Number of Clusters")
plt.ylabel("WCSS")
plt.xticks([i for i in range(2, 21)])
plt.title("Elbow Method")
plt.grid(axis="x")
plt.show()


km = KMeans(n_clusters=5)
dataset["predict"] = km.fit_predict(dataset)


sns.pairplot(data=dataset, hue="predict")
plt.savefig("predict.jpg")
plt.show()


org_dataset = pd.read_csv(r"E:\Machine Learning\iris_new.csv")


sns.pairplot(data=org_dataset, hue="Species")
plt.savefig("org.jpg")
plt.show()



