import pandas as pd
import seaborn as sns
import matplotlib.pyplot as plt
from mlxtend.plotting import plot_decision_regions


dataset = pd.read_csv(r"E:\Machine Learning\salary.csv")


dataset.head(4)


x = dataset.iloc[:,:-1]
y = dataset["Salary"]


from sklearn.model_selection import train_test_split


x_train, x_test, y_train, y_test =train_test_split(x,y,test_size=0.2, random_state=42)






from sklearn.tree import DecisionTreeRegressor


dt = DecisionTreeRegressor(criterion= 'squared_error', max_depth= 2, splitter= 'best')
dt.fit(x_train,y_train)


dt.score(x_test,y_test)*100


dt.score(x_train,y_train)*100


from sklearn.model_selection import GridSearchCV, RandomizedSearchCV


df = {
    'criterion': ['squared_error',"friedman_mse", "absolute_error"],
    'splitter': ['best','random'],
    'max_depth': [i for i in range(2,20)]
}


gd = GridSearchCV(DecisionTreeRegressor(),param_grid=df)
gd.fit(x_train,y_train)


gd.best_params_



gd.best_score_












