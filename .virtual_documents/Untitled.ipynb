import pandas as pd
import seaborn as sns
import matplotlib.pyplot as plt
from mlxtend.plotting import plot_decision_regions


dataset = pd.read_csv(r"E:\Machine Learning\placement-dataset.csv")


dataset.head(4)





plt.figure(figsize=(4,3))
sns.scatterplot(x="cgpa",y="score",data=dataset,hue="placement")
plt.show()


x = dataset.iloc[:,:-1]
y = dataset["placement"]


from sklearn.model_selection import train_test_split


x_train, x_test, y_train, y_test =train_test_split(x,y,test_size=0.2, random_state=42)



from sklearn.naive_bayes import GaussianNB,MultinomialNB, BernoulliNB


gnb = GaussianNB()
gnb.fit(x_train,y_train)


gnb.score(x_test,y_test)*100 , gnb.score(x_train,y_train)*100


plot_decision_regions(x.to_numpy(),y.to_numpy(),clf=gnb)
plt.show()


gnb.predict([[6.8,123]])


mnb = MultinomialNB()
mnb.fit(x_train,y_train)
mnb.score(x_test,y_test)*100 , mnb.score(x_train,y_train)*100


plot_decision_regions(x.to_numpy(),y.to_numpy(),clf=mnb)
plt.show()


bnb = BernoulliNB()
bnb.fit(x_train,y_train)
bnb.score(x_test,y_test)*100 , bnb.score(x_train,y_train)*100


plot_decision_regions(x.to_numpy(),y.to_numpy(),clf=bnb)
plt.show()



