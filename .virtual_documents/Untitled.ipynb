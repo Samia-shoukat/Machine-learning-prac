import pandas as pd
import seaborn as sns
import matplotlib.pyplot as plt
from mlxtend.plotting import plot_decision_regions


dataset = pd.read_csv(r"E:\Machine Learning\iris_new-clust.csv")


dataset.head(4)


# sns.pairplot(data=dataset)
# plt.show()


import scipy.cluster.hierarchy as sc


plt.figure(figsize=(20,20))
sc.dendrogram(sc.linkage(dataset,method="single", metric='euclidean'))
plt.show()





from sklearn.cluster import AgglomerativeClustering


ac = AgglomerativeClustering(n_clusters=2,linkage="single")
dataset["predict"] = ac.fit_predict(dataset)


dataset.head(5)


sns.pairplot(data=dataset, hue="predict")
plt.show()



