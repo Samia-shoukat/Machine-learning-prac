import pandas as pd
import seaborn as sns
import matplotlib.pyplot as plt
from sklearn.preprocessing import StandardScaler
from sklearn.model_selection import train_test_split


dataset = pd.read_csv(r"E:\Machine Learning\handle_categorical.csv")
dataset.head(3)


plt.figure(figsize=(10,10))
sns.heatmap(data=dataset.corr(),annot=True)
plt.show()















