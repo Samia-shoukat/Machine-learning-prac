import pandas as pd


dataset = pd.read_csv("Boston_Housing.csv")
dataset.head(5)


dataset.shape


input_data = dataset.iloc[:,:-1]
output_data = dataset["House_Price"]


from sklearn.model_selection import train_test_split


x_train, x_test, y_train, y_test = train_test_split(input_data,output_data,test_size=0.25)


y_test


x_test.shape, y_test.shape
# check model


x_train.shape, y_train.shape
# check activity or perfromance



