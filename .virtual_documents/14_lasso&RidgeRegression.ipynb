import pandas as pd
import seaborn as sns
import matplotlib.pyplot as plt
from sklearn.preprocessing import StandardScaler
from sklearn.model_selection import train_test_split


dataset = pd.read_csv(r"E:\Machine Learning\house_price_data.csv")
dataset.head(3)


plt.figure(figsize=(10,10))
sns.heatmap(data=dataset.corr(),annot=True)
plt.show()


x = dataset.iloc[:,:-1]
y = dataset["price"]


sc = StandardScaler()
sc.fit(x)
x = pd.DataFrame(sc.transform(x), columns=x.columns)



x_train, x_test, y_train, y_test = train_test_split(x,y,test_size=0.2, random_state=42)


from sklearn.linear_model import LinearRegression , Lasso, Ridge





lr = LinearRegression()
lr.fit(x_train,y_train)
lr.score(x_test,y_test)*100


print(mean_squared_error(y_test,lr.predict(x_test)))
print(mean_absolute_error(y_test,lr.predict(x_test)))
print(np.sqrt(mean_squared_error(y_test,lr.predict(x_test))))


lr.coef_


plt.figure(figsize=(15,5))
plt.bar(x.columns,lr.coef_ )
plt.show()





la = Lasso(alpha=0.5)
la.fit(x_train,y_train)
la.score(x_test,y_test)


print(mean_squared_error(y_test,la.predict(x_test)))
print(mean_absolute_error(y_test,la.predict(x_test)))
print(np.sqrt(mean_squared_error(y_test,la.predict(x_test))))


plt.figure(figsize=(15,5))
plt.bar(x.columns,la.coef_ )
plt.show()





ri = Ridge(alpha=10)
ri.fit(x_train,y_train)
ri.score(x_test,y_test)*100


print(mean_squared_error(y_test,ri.predict(x_test)))
print(mean_absolute_error(y_test,ri.predict(x_test)))
print(np.sqrt(mean_squared_error(y_test,ri.predict(x_test))))


plt.figure(figsize=(15,5))
plt.bar(x.columns,ri.coef_ )
plt.show()


from sklearn.metrics import mean_absolute_error, mean_squared_error
import numpy as np


# ridge have high accuracy


df = pd.DataFrame({"col_name":x.columns,"LinearRegression":lr.coef_,"Lasso":la.coef_,"Ridge":ri.coef_})



