import pandas as pd
import seaborn as sns
import matplotlib.pyplot as plt
from mlxtend.plotting import plot_decision_regions


dataset = pd.read_csv(r"E:\Machine Learning\Salary_Data.csv")


dataset.head(4)


x = dataset.drop(columns="Salary")
y = dataset["Salary"]








from sklearn.model_selection import train_test_split


x_train, x_test, y_train, y_test =train_test_split(x,y,test_size=0.2, random_state=42)






from sklearn.neighbors import KNeighborsRegressor


knn = KNeighborsRegressor(n_neighbors=10)
knn.fit(x_train,y_train)


knn.score(x_test,y_test)*100


for i in range(1,30):
    knn1 = KNeighborsRegressor(n_neighbors=i)
    knn1.fit(x_train,y_train)
    print(i,knn1.score(x_train,y_train)*100,knn1.score(x_test,y_test)*100)









