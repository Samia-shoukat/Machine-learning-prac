import pandas as pd
import matplotlib.pyplot as plt
import seaborn as sns



dataset = pd.read_csv(r"E:\Machine Learning\social_network_ads.csv")


dataset.head(5)


dataset["Purchased"].value_counts()


from imblearn.under_sampling import RandomUnderSampler


ru = RandomUnderSampler()
ru_x, ru_y = ru.fit_resample(x,y)


ru_x


ru_y.value_counts()





from sklearn.model_selection import train_test_split


ru_x_train, ru_x_test, ru_y_train, ru_y_test =train_test_split(ru_x,ru_y,test_size=0.2, random_state=42)



from sklearn.linear_model import LogisticRegression


lr = LogisticRegression()
lr.fit(ru_x_train,ru_y_train)


lr.score(ru_x_test,ru_y_test)*100


lr.predict([[27,96000]])



