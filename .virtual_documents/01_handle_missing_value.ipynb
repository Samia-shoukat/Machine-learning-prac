import pandas as pd
import seaborn as sns
import matplotlib.pyplot as plt


dataset = pd.read_csv("handle_missing_values.csv")
dataset.head(4)


dataset.shape


((10-5)/10)*100


dataset.isnull().sum()


sns.heatmap(dataset.isnull())
plt.show()


dataset.drop(columns=["Salary"], inplace=True)


dataset.dropna(inplace=True)



