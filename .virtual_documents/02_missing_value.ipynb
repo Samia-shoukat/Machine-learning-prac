import pandas as pd
import seaborn as sns
import matplotlib.pyplot as plt


dataset = pd.read_csv(r"E:\ML\handle_missing_values.csv")
print(dataset.head(3))


dataset.shape


dataset.isnull().sum()


dataset.isnull().sum().sum()


dataset.notnull().sum().sum()


dataset.shape[0]


(dataset.isnull().sum()/dataset.shape[0])*100


(dataset.isnull().sum().sum()/(dataset.shape[0]*dataset.shape[1]))*100


sns.heatmap(dataset.isnull())
plt.show()



