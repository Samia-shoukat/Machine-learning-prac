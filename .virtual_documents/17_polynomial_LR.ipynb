import pandas as pd
import matplotlib.pyplot as plt
import seaborn as sns


dataset = pd.read_csv(r"E:\Machine Learning\polynomial_classification.csv")


dataset.head(5)


plt.figure(figsize=(4,3))
sns.scatterplot(x="data1",y="data2",data=dataset,hue="output")
plt.legend(loc = 1)
plt.show()



x = dataset.iloc[:,:-1]
y = dataset["output"]


from sklearn.model_selection import train_test_split


x_train, x_test, y_train, y_test =train_test_split(x,y,test_size=0.2, random_state=42)



from sklearn.linear_model import LogisticRegression


lr = LogisticRegression()
lr.fit(x_train , y_train)



lr.score(x_test,y_test)*100


from mlxtend.plotting import plot_decision_regions


plot_decision_regions(x.to_numpy(),y.to_numpy(),clf=lr)
plt.show()






