import pandas as pd
import seaborn as sns
import matplotlib.pyplot as plt


dataset = pd.read_csv(r"E:\ML\handle_categorical.csv")
print(dataset.head(3))


dataset.isnull().sum()


# dataset.fillna(110) wrong way to fill the missing data


dataset.fillna(method="bfill")


dataset["Role"].mode()[0]
    


dataset["Role"].fillna(dataset["Role"].mode()[0],inplace=True)


dataset.info()


for i in dataset.select_dtypes(include="object").columns:
    dataset[i].fillna(dataset[i].mode()[0],inplace=True)
















