import pandas as pd
import seaborn as sns
import matplotlib.pyplot as plt
from mlxtend.plotting import plot_decision_regions


dataset = pd.read_csv(r"E:\Machine Learning\placement-dataset.csv")


dataset.head(4)


sns.scatterplot(x="cgpa",y="score",data=dataset,hue="placement")
plt.show()


x = dataset.iloc[:,:-1]
y = dataset["placement"]


from sklearn.model_selection import train_test_split





x_train, x_test, y_train, y_test =train_test_split(x,y,test_size=0.2, random_state=42)



'linear' , 'poly', 'rbf' , 'sigmoid' , 'precomputed'


from sklearn.svm import SVC


sv = SVC(kernel="linear")
sv.fit(x_train,y_train)


sv.score(x_test,y_test)*100


sv.score(x_train,y_train)*100


plot_decision_regions(x.to_numpy(),y.to_numpy(),clf=sv)
plt.show()



